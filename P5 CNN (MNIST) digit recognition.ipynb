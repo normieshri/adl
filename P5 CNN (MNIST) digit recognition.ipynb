{
  "nbformat": 4,
  "nbformat_minor": 0,
  "metadata": {
    "colab": {
      "provenance": [],
      "gpuType": "T4"
    },
    "kernelspec": {
      "name": "python3",
      "display_name": "Python 3"
    },
    "language_info": {
      "name": "python"
    },
    "accelerator": "GPU"
  },
  "cells": [
    {
      "cell_type": "code",
      "execution_count": null,
      "metadata": {
        "id": "9UXFiHr3sUXP"
      },
      "outputs": [],
      "source": [
        "import numpy as np\n",
        "from matplotlib import pyplot as plt\n",
        "from keras.utils import to_categorical\n",
        "from keras.models import Sequential\n",
        "from keras.layers import Dense, Dropout, Flatten\n",
        "from keras.layers import Conv2D\n",
        "from keras.callbacks import EarlyStopping\n",
        "from keras.datasets import mnist"
      ]
    },
    {
      "cell_type": "code",
      "source": [
        "(x_train, y_train), (x_test, y_test) = mnist.load_data()"
      ],
      "metadata": {
        "colab": {
          "base_uri": "https://localhost:8080/"
        },
        "id": "kHSYLUUItFI9",
        "outputId": "214cc304-1bcb-424e-f4ba-8b9270e7b19f"
      },
      "execution_count": null,
      "outputs": [
        {
          "output_type": "stream",
          "name": "stdout",
          "text": [
            "Downloading data from https://storage.googleapis.com/tensorflow/tf-keras-datasets/mnist.npz\n",
            "11490434/11490434 [==============================] - 2s 0us/step\n"
          ]
        }
      ]
    },
    {
      "cell_type": "code",
      "source": [
        "img_rows, img_cols = x_train[0].shape[0], x_train[0].shape[1]\n",
        "x_train = x_train.reshape(x_train.shape[0], img_rows, img_cols, 1)\n",
        "x_test = x_test.reshape(x_test.shape[0], img_rows, img_cols, 1)\n",
        "input_shape = (img_rows, img_cols, 1)"
      ],
      "metadata": {
        "id": "5zeqIMiAtSMM"
      },
      "execution_count": null,
      "outputs": []
    },
    {
      "cell_type": "code",
      "source": [
        "x_train = x_train.astype('float32')/255.\n",
        "x_test = x_test.astype('float32')/255."
      ],
      "metadata": {
        "id": "WrW4o999txb0"
      },
      "execution_count": null,
      "outputs": []
    },
    {
      "cell_type": "code",
      "source": [
        "n_classes = len(set(y_train))\n",
        "y_train = to_categorical(y_train, n_classes)\n",
        "y_test = to_categorical(y_test, n_classes)"
      ],
      "metadata": {
        "id": "2pbpMf5vt8vd"
      },
      "execution_count": null,
      "outputs": []
    },
    {
      "cell_type": "code",
      "source": [
        "model = Sequential()\n",
        "model.add(Conv2D(64, kernel_size = (3,3), activation = 'relu', input_shape = input_shape))"
      ],
      "metadata": {
        "id": "Nh88AuSQuMLD"
      },
      "execution_count": null,
      "outputs": []
    },
    {
      "cell_type": "code",
      "source": [
        "model.add(Conv2D(128, kernel_size = (3,3), activation = 'relu'))\n",
        "model.add(Conv2D(256, kernel_size = (3,3), activation = 'relu'))\n",
        "model.add(Dropout(0.5))\n",
        "model.add(Flatten())\n",
        "model.add(Dense(128, activation = 'relu'))\n",
        "model.add(Dropout(0.5))\n",
        "model.add(Dense(n_classes, activation = 'softmax'))\n",
        "model.compile(loss = 'categorical_crossentropy', optimizer = 'adam', metrics = ['accuracy'])"
      ],
      "metadata": {
        "id": "MN1-8V1bubrX"
      },
      "execution_count": null,
      "outputs": []
    },
    {
      "cell_type": "code",
      "source": [
        "\n",
        "callbacks = [EarlyStopping(monitor = 'val_acc', patience = 5)]"
      ],
      "metadata": {
        "id": "cz4D4vBSvQp0"
      },
      "execution_count": null,
      "outputs": []
    },
    {
      "cell_type": "code",
      "source": [
        "batch_size = 128\n",
        "n_epochs = 100"
      ],
      "metadata": {
        "id": "VtOlp2gqvYNd"
      },
      "execution_count": null,
      "outputs": []
    },
    {
      "cell_type": "code",
      "source": [
        "model.fit(x_train, y_train, batch_size = batch_size, epochs = n_epochs, verbose = 1, validation_split = 0.2, callbacks = callbacks)"
      ],
      "metadata": {
        "colab": {
          "base_uri": "https://localhost:8080/"
        },
        "id": "ayd69k_nvcnh",
        "outputId": "5049bb8d-9d1d-4685-d78a-1b569409a633"
      },
      "execution_count": null,
      "outputs": [
        {
          "metadata": {
            "tags": null
          },
          "name": "stdout",
          "output_type": "stream",
          "text": [
            "Epoch 1/100\n",
            "375/375 [==============================] - ETA: 0s - loss: 0.1952 - accuracy: 0.9404"
          ]
        },
        {
          "metadata": {
            "tags": null
          },
          "name": "stderr",
          "output_type": "stream",
          "text": [
            "WARNING:tensorflow:Early stopping conditioned on metric `val_acc` which is not available. Available metrics are: loss,accuracy,val_loss,val_accuracy\n"
          ]
        },
        {
          "metadata": {
            "tags": null
          },
          "name": "stdout",
          "output_type": "stream",
          "text": [
            "375/375 [==============================] - 25s 44ms/step - loss: 0.1952 - accuracy: 0.9404 - val_loss: 0.0565 - val_accuracy: 0.9833\n",
            "Epoch 2/100\n",
            "375/375 [==============================] - ETA: 0s - loss: 0.0716 - accuracy: 0.9794"
          ]
        },
        {
          "metadata": {
            "tags": null
          },
          "name": "stderr",
          "output_type": "stream",
          "text": [
            "WARNING:tensorflow:Early stopping conditioned on metric `val_acc` which is not available. Available metrics are: loss,accuracy,val_loss,val_accuracy\n"
          ]
        },
        {
          "metadata": {
            "tags": null
          },
          "name": "stdout",
          "output_type": "stream",
          "text": [
            "375/375 [==============================] - 15s 40ms/step - loss: 0.0716 - accuracy: 0.9794 - val_loss: 0.0385 - val_accuracy: 0.9895\n",
            "Epoch 3/100\n",
            "374/375 [============================>.] - ETA: 0s - loss: 0.0538 - accuracy: 0.9841"
          ]
        },
        {
          "metadata": {
            "tags": null
          },
          "name": "stderr",
          "output_type": "stream",
          "text": [
            "WARNING:tensorflow:Early stopping conditioned on metric `val_acc` which is not available. Available metrics are: loss,accuracy,val_loss,val_accuracy\n"
          ]
        },
        {
          "metadata": {
            "tags": null
          },
          "name": "stdout",
          "output_type": "stream",
          "text": [
            "375/375 [==============================] - 15s 39ms/step - loss: 0.0537 - accuracy: 0.9842 - val_loss: 0.0396 - val_accuracy: 0.9890\n",
            "Epoch 4/100\n",
            "375/375 [==============================] - ETA: 0s - loss: 0.0428 - accuracy: 0.9866"
          ]
        },
        {
          "metadata": {
            "tags": null
          },
          "name": "stderr",
          "output_type": "stream",
          "text": [
            "WARNING:tensorflow:Early stopping conditioned on metric `val_acc` which is not available. Available metrics are: loss,accuracy,val_loss,val_accuracy\n"
          ]
        },
        {
          "metadata": {
            "tags": null
          },
          "name": "stdout",
          "output_type": "stream",
          "text": [
            "375/375 [==============================] - 15s 39ms/step - loss: 0.0428 - accuracy: 0.9866 - val_loss: 0.0410 - val_accuracy: 0.9898\n",
            "Epoch 5/100\n",
            "375/375 [==============================] - ETA: 0s - loss: 0.0339 - accuracy: 0.9897"
          ]
        },
        {
          "metadata": {
            "tags": null
          },
          "name": "stderr",
          "output_type": "stream",
          "text": [
            "WARNING:tensorflow:Early stopping conditioned on metric `val_acc` which is not available. Available metrics are: loss,accuracy,val_loss,val_accuracy\n"
          ]
        },
        {
          "metadata": {
            "tags": null
          },
          "name": "stdout",
          "output_type": "stream",
          "text": [
            "375/375 [==============================] - 15s 41ms/step - loss: 0.0339 - accuracy: 0.9897 - val_loss: 0.0456 - val_accuracy: 0.9882\n",
            "Epoch 6/100\n",
            "374/375 [============================>.] - ETA: 0s - loss: 0.0311 - accuracy: 0.9905"
          ]
        },
        {
          "metadata": {
            "tags": null
          },
          "name": "stderr",
          "output_type": "stream",
          "text": [
            "WARNING:tensorflow:Early stopping conditioned on metric `val_acc` which is not available. Available metrics are: loss,accuracy,val_loss,val_accuracy\n"
          ]
        },
        {
          "metadata": {
            "tags": null
          },
          "name": "stdout",
          "output_type": "stream",
          "text": [
            "375/375 [==============================] - 16s 43ms/step - loss: 0.0311 - accuracy: 0.9904 - val_loss: 0.0378 - val_accuracy: 0.9910\n",
            "Epoch 7/100\n",
            "375/375 [==============================] - ETA: 0s - loss: 0.0256 - accuracy: 0.9918"
          ]
        },
        {
          "metadata": {
            "tags": null
          },
          "name": "stderr",
          "output_type": "stream",
          "text": [
            "WARNING:tensorflow:Early stopping conditioned on metric `val_acc` which is not available. Available metrics are: loss,accuracy,val_loss,val_accuracy\n"
          ]
        },
        {
          "metadata": {
            "tags": null
          },
          "name": "stdout",
          "output_type": "stream",
          "text": [
            "375/375 [==============================] - 15s 40ms/step - loss: 0.0256 - accuracy: 0.9918 - val_loss: 0.0409 - val_accuracy: 0.9915\n",
            "Epoch 8/100\n",
            "375/375 [==============================] - ETA: 0s - loss: 0.0238 - accuracy: 0.9924"
          ]
        },
        {
          "metadata": {
            "tags": null
          },
          "name": "stderr",
          "output_type": "stream",
          "text": [
            "WARNING:tensorflow:Early stopping conditioned on metric `val_acc` which is not available. Available metrics are: loss,accuracy,val_loss,val_accuracy\n"
          ]
        },
        {
          "metadata": {
            "tags": null
          },
          "name": "stdout",
          "output_type": "stream",
          "text": [
            "375/375 [==============================] - 15s 41ms/step - loss: 0.0238 - accuracy: 0.9924 - val_loss: 0.0399 - val_accuracy: 0.9902\n",
            "Epoch 9/100\n",
            "375/375 [==============================] - ETA: 0s - loss: 0.0194 - accuracy: 0.9937"
          ]
        },
        {
          "metadata": {
            "tags": null
          },
          "name": "stderr",
          "output_type": "stream",
          "text": [
            "WARNING:tensorflow:Early stopping conditioned on metric `val_acc` which is not available. Available metrics are: loss,accuracy,val_loss,val_accuracy\n"
          ]
        },
        {
          "metadata": {
            "tags": null
          },
          "name": "stdout",
          "output_type": "stream",
          "text": [
            "375/375 [==============================] - 15s 40ms/step - loss: 0.0194 - accuracy: 0.9937 - val_loss: 0.0464 - val_accuracy: 0.9895\n",
            "Epoch 10/100\n",
            "374/375 [============================>.] - ETA: 0s - loss: 0.0189 - accuracy: 0.9942"
          ]
        },
        {
          "metadata": {
            "tags": null
          },
          "name": "stderr",
          "output_type": "stream",
          "text": [
            "WARNING:tensorflow:Early stopping conditioned on metric `val_acc` which is not available. Available metrics are: loss,accuracy,val_loss,val_accuracy\n"
          ]
        },
        {
          "metadata": {
            "tags": null
          },
          "name": "stdout",
          "output_type": "stream",
          "text": [
            "375/375 [==============================] - 15s 41ms/step - loss: 0.0189 - accuracy: 0.9942 - val_loss: 0.0361 - val_accuracy: 0.9912\n",
            "Epoch 11/100\n",
            "375/375 [==============================] - ETA: 0s - loss: 0.0163 - accuracy: 0.9945"
          ]
        },
        {
          "metadata": {
            "tags": null
          },
          "name": "stderr",
          "output_type": "stream",
          "text": [
            "WARNING:tensorflow:Early stopping conditioned on metric `val_acc` which is not available. Available metrics are: loss,accuracy,val_loss,val_accuracy\n"
          ]
        },
        {
          "metadata": {
            "tags": null
          },
          "name": "stdout",
          "output_type": "stream",
          "text": [
            "375/375 [==============================] - 15s 40ms/step - loss: 0.0163 - accuracy: 0.9945 - val_loss: 0.0433 - val_accuracy: 0.9911\n",
            "Epoch 12/100\n",
            "375/375 [==============================] - ETA: 0s - loss: 0.0149 - accuracy: 0.9950"
          ]
        },
        {
          "metadata": {
            "tags": null
          },
          "name": "stderr",
          "output_type": "stream",
          "text": [
            "WARNING:tensorflow:Early stopping conditioned on metric `val_acc` which is not available. Available metrics are: loss,accuracy,val_loss,val_accuracy\n"
          ]
        },
        {
          "metadata": {
            "tags": null
          },
          "name": "stdout",
          "output_type": "stream",
          "text": [
            "375/375 [==============================] - 15s 40ms/step - loss: 0.0149 - accuracy: 0.9950 - val_loss: 0.0502 - val_accuracy: 0.9909\n",
            "Epoch 13/100\n",
            "375/375 [==============================] - ETA: 0s - loss: 0.0145 - accuracy: 0.9951"
          ]
        },
        {
          "metadata": {
            "tags": null
          },
          "name": "stderr",
          "output_type": "stream",
          "text": [
            "WARNING:tensorflow:Early stopping conditioned on metric `val_acc` which is not available. Available metrics are: loss,accuracy,val_loss,val_accuracy\n"
          ]
        },
        {
          "metadata": {
            "tags": null
          },
          "name": "stdout",
          "output_type": "stream",
          "text": [
            "375/375 [==============================] - 15s 40ms/step - loss: 0.0145 - accuracy: 0.9951 - val_loss: 0.0436 - val_accuracy: 0.9913\n",
            "Epoch 14/100\n",
            "374/375 [============================>.] - ETA: 0s - loss: 0.0127 - accuracy: 0.9956"
          ]
        },
        {
          "metadata": {
            "tags": null
          },
          "name": "stderr",
          "output_type": "stream",
          "text": [
            "WARNING:tensorflow:Early stopping conditioned on metric `val_acc` which is not available. Available metrics are: loss,accuracy,val_loss,val_accuracy\n"
          ]
        },
        {
          "metadata": {
            "tags": null
          },
          "name": "stdout",
          "output_type": "stream",
          "text": [
            "375/375 [==============================] - 15s 41ms/step - loss: 0.0127 - accuracy: 0.9956 - val_loss: 0.0515 - val_accuracy: 0.9909\n",
            "Epoch 15/100\n",
            "375/375 [==============================] - ETA: 0s - loss: 0.0142 - accuracy: 0.9955"
          ]
        },
        {
          "metadata": {
            "tags": null
          },
          "name": "stderr",
          "output_type": "stream",
          "text": [
            "WARNING:tensorflow:Early stopping conditioned on metric `val_acc` which is not available. Available metrics are: loss,accuracy,val_loss,val_accuracy\n"
          ]
        },
        {
          "metadata": {
            "tags": null
          },
          "name": "stdout",
          "output_type": "stream",
          "text": [
            "375/375 [==============================] - 15s 41ms/step - loss: 0.0142 - accuracy: 0.9955 - val_loss: 0.0459 - val_accuracy: 0.9911\n",
            "Epoch 16/100\n",
            "375/375 [==============================] - ETA: 0s - loss: 0.0136 - accuracy: 0.9958"
          ]
        },
        {
          "metadata": {
            "tags": null
          },
          "name": "stderr",
          "output_type": "stream",
          "text": [
            "WARNING:tensorflow:Early stopping conditioned on metric `val_acc` which is not available. Available metrics are: loss,accuracy,val_loss,val_accuracy\n"
          ]
        },
        {
          "metadata": {
            "tags": null
          },
          "name": "stdout",
          "output_type": "stream",
          "text": [
            "375/375 [==============================] - 15s 40ms/step - loss: 0.0136 - accuracy: 0.9958 - val_loss: 0.0505 - val_accuracy: 0.9910\n",
            "Epoch 17/100\n",
            "375/375 [==============================] - ETA: 0s - loss: 0.0107 - accuracy: 0.9961"
          ]
        },
        {
          "metadata": {
            "tags": null
          },
          "name": "stderr",
          "output_type": "stream",
          "text": [
            "WARNING:tensorflow:Early stopping conditioned on metric `val_acc` which is not available. Available metrics are: loss,accuracy,val_loss,val_accuracy\n"
          ]
        },
        {
          "metadata": {
            "tags": null
          },
          "name": "stdout",
          "output_type": "stream",
          "text": [
            "375/375 [==============================] - 15s 40ms/step - loss: 0.0107 - accuracy: 0.9961 - val_loss: 0.0493 - val_accuracy: 0.9918\n",
            "Epoch 18/100\n",
            "375/375 [==============================] - ETA: 0s - loss: 0.0101 - accuracy: 0.9968"
          ]
        },
        {
          "metadata": {
            "tags": null
          },
          "name": "stderr",
          "output_type": "stream",
          "text": [
            "WARNING:tensorflow:Early stopping conditioned on metric `val_acc` which is not available. Available metrics are: loss,accuracy,val_loss,val_accuracy\n"
          ]
        },
        {
          "metadata": {
            "tags": null
          },
          "name": "stdout",
          "output_type": "stream",
          "text": [
            "375/375 [==============================] - 15s 41ms/step - loss: 0.0101 - accuracy: 0.9968 - val_loss: 0.0442 - val_accuracy: 0.9915\n",
            "Epoch 19/100\n",
            "375/375 [==============================] - ETA: 0s - loss: 0.0089 - accuracy: 0.9967"
          ]
        },
        {
          "metadata": {
            "tags": null
          },
          "name": "stderr",
          "output_type": "stream",
          "text": [
            "WARNING:tensorflow:Early stopping conditioned on metric `val_acc` which is not available. Available metrics are: loss,accuracy,val_loss,val_accuracy\n"
          ]
        },
        {
          "metadata": {
            "tags": null
          },
          "name": "stdout",
          "output_type": "stream",
          "text": [
            "375/375 [==============================] - 15s 39ms/step - loss: 0.0089 - accuracy: 0.9967 - val_loss: 0.0600 - val_accuracy: 0.9900\n",
            "Epoch 20/100\n",
            "375/375 [==============================] - ETA: 0s - loss: 0.0113 - accuracy: 0.9963"
          ]
        },
        {
          "metadata": {
            "tags": null
          },
          "name": "stderr",
          "output_type": "stream",
          "text": [
            "WARNING:tensorflow:Early stopping conditioned on metric `val_acc` which is not available. Available metrics are: loss,accuracy,val_loss,val_accuracy\n"
          ]
        },
        {
          "metadata": {
            "tags": null
          },
          "name": "stdout",
          "output_type": "stream",
          "text": [
            "375/375 [==============================] - 15s 41ms/step - loss: 0.0113 - accuracy: 0.9963 - val_loss: 0.0564 - val_accuracy: 0.9912\n",
            "Epoch 21/100\n",
            "375/375 [==============================] - ETA: 0s - loss: 0.0095 - accuracy: 0.9968"
          ]
        },
        {
          "metadata": {
            "tags": null
          },
          "name": "stderr",
          "output_type": "stream",
          "text": [
            "WARNING:tensorflow:Early stopping conditioned on metric `val_acc` which is not available. Available metrics are: loss,accuracy,val_loss,val_accuracy\n"
          ]
        },
        {
          "metadata": {
            "tags": null
          },
          "name": "stdout",
          "output_type": "stream",
          "text": [
            "375/375 [==============================] - 15s 40ms/step - loss: 0.0095 - accuracy: 0.9968 - val_loss: 0.0622 - val_accuracy: 0.9911\n",
            "Epoch 22/100\n",
            "375/375 [==============================] - ETA: 0s - loss: 0.0099 - accuracy: 0.9971"
          ]
        },
        {
          "metadata": {
            "tags": null
          },
          "name": "stderr",
          "output_type": "stream",
          "text": [
            "WARNING:tensorflow:Early stopping conditioned on metric `val_acc` which is not available. Available metrics are: loss,accuracy,val_loss,val_accuracy\n"
          ]
        },
        {
          "metadata": {
            "tags": null
          },
          "name": "stdout",
          "output_type": "stream",
          "text": [
            "375/375 [==============================] - 15s 40ms/step - loss: 0.0099 - accuracy: 0.9971 - val_loss: 0.0510 - val_accuracy: 0.9911\n",
            "Epoch 23/100\n",
            "375/375 [==============================] - ETA: 0s - loss: 0.0088 - accuracy: 0.9968"
          ]
        },
        {
          "metadata": {
            "tags": null
          },
          "name": "stderr",
          "output_type": "stream",
          "text": [
            "WARNING:tensorflow:Early stopping conditioned on metric `val_acc` which is not available. Available metrics are: loss,accuracy,val_loss,val_accuracy\n"
          ]
        },
        {
          "metadata": {
            "tags": null
          },
          "name": "stdout",
          "output_type": "stream",
          "text": [
            "375/375 [==============================] - 15s 40ms/step - loss: 0.0088 - accuracy: 0.9968 - val_loss: 0.0670 - val_accuracy: 0.9887\n",
            "Epoch 24/100\n",
            "375/375 [==============================] - ETA: 0s - loss: 0.0093 - accuracy: 0.9968"
          ]
        },
        {
          "metadata": {
            "tags": null
          },
          "name": "stderr",
          "output_type": "stream",
          "text": [
            "WARNING:tensorflow:Early stopping conditioned on metric `val_acc` which is not available. Available metrics are: loss,accuracy,val_loss,val_accuracy\n"
          ]
        },
        {
          "metadata": {
            "tags": null
          },
          "name": "stdout",
          "output_type": "stream",
          "text": [
            "375/375 [==============================] - 15s 41ms/step - loss: 0.0093 - accuracy: 0.9968 - val_loss: 0.0521 - val_accuracy: 0.9918\n",
            "Epoch 25/100\n",
            "375/375 [==============================] - ETA: 0s - loss: 0.0088 - accuracy: 0.9971"
          ]
        },
        {
          "metadata": {
            "tags": null
          },
          "name": "stderr",
          "output_type": "stream",
          "text": [
            "WARNING:tensorflow:Early stopping conditioned on metric `val_acc` which is not available. Available metrics are: loss,accuracy,val_loss,val_accuracy\n"
          ]
        },
        {
          "metadata": {
            "tags": null
          },
          "name": "stdout",
          "output_type": "stream",
          "text": [
            "375/375 [==============================] - 15s 40ms/step - loss: 0.0088 - accuracy: 0.9971 - val_loss: 0.0739 - val_accuracy: 0.9902\n",
            "Epoch 26/100\n",
            "375/375 [==============================] - ETA: 0s - loss: 0.0085 - accuracy: 0.9974"
          ]
        },
        {
          "metadata": {
            "tags": null
          },
          "name": "stderr",
          "output_type": "stream",
          "text": [
            "WARNING:tensorflow:Early stopping conditioned on metric `val_acc` which is not available. Available metrics are: loss,accuracy,val_loss,val_accuracy\n"
          ]
        },
        {
          "metadata": {
            "tags": null
          },
          "name": "stdout",
          "output_type": "stream",
          "text": [
            "375/375 [==============================] - 15s 39ms/step - loss: 0.0085 - accuracy: 0.9974 - val_loss: 0.0545 - val_accuracy: 0.9919\n",
            "Epoch 27/100\n",
            "375/375 [==============================] - ETA: 0s - loss: 0.0081 - accuracy: 0.9975"
          ]
        },
        {
          "metadata": {
            "tags": null
          },
          "name": "stderr",
          "output_type": "stream",
          "text": [
            "WARNING:tensorflow:Early stopping conditioned on metric `val_acc` which is not available. Available metrics are: loss,accuracy,val_loss,val_accuracy\n"
          ]
        },
        {
          "metadata": {
            "tags": null
          },
          "name": "stdout",
          "output_type": "stream",
          "text": [
            "375/375 [==============================] - 15s 40ms/step - loss: 0.0081 - accuracy: 0.9975 - val_loss: 0.0594 - val_accuracy: 0.9923\n",
            "Epoch 28/100\n",
            "375/375 [==============================] - ETA: 0s - loss: 0.0074 - accuracy: 0.9976"
          ]
        },
        {
          "metadata": {
            "tags": null
          },
          "name": "stderr",
          "output_type": "stream",
          "text": [
            "WARNING:tensorflow:Early stopping conditioned on metric `val_acc` which is not available. Available metrics are: loss,accuracy,val_loss,val_accuracy\n"
          ]
        },
        {
          "metadata": {
            "tags": null
          },
          "name": "stdout",
          "output_type": "stream",
          "text": [
            "375/375 [==============================] - 15s 39ms/step - loss: 0.0074 - accuracy: 0.9976 - val_loss: 0.0568 - val_accuracy: 0.9920\n",
            "Epoch 29/100\n",
            "375/375 [==============================] - ETA: 0s - loss: 0.0081 - accuracy: 0.9976"
          ]
        },
        {
          "metadata": {
            "tags": null
          },
          "name": "stderr",
          "output_type": "stream",
          "text": [
            "WARNING:tensorflow:Early stopping conditioned on metric `val_acc` which is not available. Available metrics are: loss,accuracy,val_loss,val_accuracy\n"
          ]
        },
        {
          "metadata": {
            "tags": null
          },
          "name": "stdout",
          "output_type": "stream",
          "text": [
            "375/375 [==============================] - 15s 41ms/step - loss: 0.0081 - accuracy: 0.9976 - val_loss: 0.0561 - val_accuracy: 0.9918\n",
            "Epoch 30/100\n",
            "375/375 [==============================] - ETA: 0s - loss: 0.0063 - accuracy: 0.9980"
          ]
        },
        {
          "metadata": {
            "tags": null
          },
          "name": "stderr",
          "output_type": "stream",
          "text": [
            "WARNING:tensorflow:Early stopping conditioned on metric `val_acc` which is not available. Available metrics are: loss,accuracy,val_loss,val_accuracy\n"
          ]
        },
        {
          "metadata": {
            "tags": null
          },
          "name": "stdout",
          "output_type": "stream",
          "text": [
            "375/375 [==============================] - 15s 40ms/step - loss: 0.0063 - accuracy: 0.9980 - val_loss: 0.0620 - val_accuracy: 0.9916\n",
            "Epoch 31/100\n",
            "375/375 [==============================] - ETA: 0s - loss: 0.0072 - accuracy: 0.9978"
          ]
        },
        {
          "metadata": {
            "tags": null
          },
          "name": "stderr",
          "output_type": "stream",
          "text": [
            "WARNING:tensorflow:Early stopping conditioned on metric `val_acc` which is not available. Available metrics are: loss,accuracy,val_loss,val_accuracy\n"
          ]
        },
        {
          "metadata": {
            "tags": null
          },
          "name": "stdout",
          "output_type": "stream",
          "text": [
            "375/375 [==============================] - 15s 41ms/step - loss: 0.0072 - accuracy: 0.9978 - val_loss: 0.0542 - val_accuracy: 0.9918\n",
            "Epoch 32/100\n",
            "375/375 [==============================] - ETA: 0s - loss: 0.0067 - accuracy: 0.9978"
          ]
        },
        {
          "metadata": {
            "tags": null
          },
          "name": "stderr",
          "output_type": "stream",
          "text": [
            "WARNING:tensorflow:Early stopping conditioned on metric `val_acc` which is not available. Available metrics are: loss,accuracy,val_loss,val_accuracy\n"
          ]
        },
        {
          "metadata": {
            "tags": null
          },
          "name": "stdout",
          "output_type": "stream",
          "text": [
            "375/375 [==============================] - 15s 39ms/step - loss: 0.0067 - accuracy: 0.9978 - val_loss: 0.0632 - val_accuracy: 0.9920\n",
            "Epoch 33/100\n",
            "375/375 [==============================] - ETA: 0s - loss: 0.0068 - accuracy: 0.9979"
          ]
        },
        {
          "metadata": {
            "tags": null
          },
          "name": "stderr",
          "output_type": "stream",
          "text": [
            "WARNING:tensorflow:Early stopping conditioned on metric `val_acc` which is not available. Available metrics are: loss,accuracy,val_loss,val_accuracy\n"
          ]
        },
        {
          "metadata": {
            "tags": null
          },
          "name": "stdout",
          "output_type": "stream",
          "text": [
            "375/375 [==============================] - 15s 39ms/step - loss: 0.0068 - accuracy: 0.9979 - val_loss: 0.0524 - val_accuracy: 0.9919\n",
            "Epoch 34/100\n",
            "375/375 [==============================] - ETA: 0s - loss: 0.0083 - accuracy: 0.9977"
          ]
        },
        {
          "metadata": {
            "tags": null
          },
          "name": "stderr",
          "output_type": "stream",
          "text": [
            "WARNING:tensorflow:Early stopping conditioned on metric `val_acc` which is not available. Available metrics are: loss,accuracy,val_loss,val_accuracy\n"
          ]
        },
        {
          "metadata": {
            "tags": null
          },
          "name": "stdout",
          "output_type": "stream",
          "text": [
            "375/375 [==============================] - 15s 39ms/step - loss: 0.0083 - accuracy: 0.9977 - val_loss: 0.0551 - val_accuracy: 0.9918\n",
            "Epoch 35/100\n",
            "375/375 [==============================] - ETA: 0s - loss: 0.0073 - accuracy: 0.9979"
          ]
        },
        {
          "metadata": {
            "tags": null
          },
          "name": "stderr",
          "output_type": "stream",
          "text": [
            "WARNING:tensorflow:Early stopping conditioned on metric `val_acc` which is not available. Available metrics are: loss,accuracy,val_loss,val_accuracy\n"
          ]
        },
        {
          "metadata": {
            "tags": null
          },
          "name": "stdout",
          "output_type": "stream",
          "text": [
            "375/375 [==============================] - 15s 40ms/step - loss: 0.0073 - accuracy: 0.9979 - val_loss: 0.0583 - val_accuracy: 0.9908\n",
            "Epoch 36/100\n",
            "375/375 [==============================] - ETA: 0s - loss: 0.0054 - accuracy: 0.9983"
          ]
        },
        {
          "metadata": {
            "tags": null
          },
          "name": "stderr",
          "output_type": "stream",
          "text": [
            "WARNING:tensorflow:Early stopping conditioned on metric `val_acc` which is not available. Available metrics are: loss,accuracy,val_loss,val_accuracy\n"
          ]
        },
        {
          "metadata": {
            "tags": null
          },
          "name": "stdout",
          "output_type": "stream",
          "text": [
            "375/375 [==============================] - 15s 40ms/step - loss: 0.0054 - accuracy: 0.9983 - val_loss: 0.0698 - val_accuracy: 0.9926\n",
            "Epoch 37/100\n",
            "375/375 [==============================] - ETA: 0s - loss: 0.0075 - accuracy: 0.9975"
          ]
        },
        {
          "metadata": {
            "tags": null
          },
          "name": "stderr",
          "output_type": "stream",
          "text": [
            "WARNING:tensorflow:Early stopping conditioned on metric `val_acc` which is not available. Available metrics are: loss,accuracy,val_loss,val_accuracy\n"
          ]
        },
        {
          "metadata": {
            "tags": null
          },
          "name": "stdout",
          "output_type": "stream",
          "text": [
            "375/375 [==============================] - 15s 39ms/step - loss: 0.0075 - accuracy: 0.9975 - val_loss: 0.0616 - val_accuracy: 0.9921\n",
            "Epoch 38/100\n",
            "375/375 [==============================] - ETA: 0s - loss: 0.0062 - accuracy: 0.9980"
          ]
        },
        {
          "metadata": {
            "tags": null
          },
          "name": "stderr",
          "output_type": "stream",
          "text": [
            "WARNING:tensorflow:Early stopping conditioned on metric `val_acc` which is not available. Available metrics are: loss,accuracy,val_loss,val_accuracy\n"
          ]
        },
        {
          "metadata": {
            "tags": null
          },
          "name": "stdout",
          "output_type": "stream",
          "text": [
            "375/375 [==============================] - 15s 41ms/step - loss: 0.0062 - accuracy: 0.9980 - val_loss: 0.0621 - val_accuracy: 0.9912\n",
            "Epoch 39/100\n",
            "375/375 [==============================] - ETA: 0s - loss: 0.0059 - accuracy: 0.9984"
          ]
        },
        {
          "metadata": {
            "tags": null
          },
          "name": "stderr",
          "output_type": "stream",
          "text": [
            "WARNING:tensorflow:Early stopping conditioned on metric `val_acc` which is not available. Available metrics are: loss,accuracy,val_loss,val_accuracy\n"
          ]
        },
        {
          "metadata": {
            "tags": null
          },
          "name": "stdout",
          "output_type": "stream",
          "text": [
            "375/375 [==============================] - 15s 40ms/step - loss: 0.0059 - accuracy: 0.9984 - val_loss: 0.0575 - val_accuracy: 0.9922\n",
            "Epoch 40/100\n",
            "375/375 [==============================] - ETA: 0s - loss: 0.0057 - accuracy: 0.9982"
          ]
        },
        {
          "metadata": {
            "tags": null
          },
          "name": "stderr",
          "output_type": "stream",
          "text": [
            "WARNING:tensorflow:Early stopping conditioned on metric `val_acc` which is not available. Available metrics are: loss,accuracy,val_loss,val_accuracy\n"
          ]
        },
        {
          "metadata": {
            "tags": null
          },
          "name": "stdout",
          "output_type": "stream",
          "text": [
            "375/375 [==============================] - 15s 41ms/step - loss: 0.0057 - accuracy: 0.9982 - val_loss: 0.0612 - val_accuracy: 0.9918\n",
            "Epoch 41/100\n",
            "375/375 [==============================] - ETA: 0s - loss: 0.0070 - accuracy: 0.9980"
          ]
        },
        {
          "metadata": {
            "tags": null
          },
          "name": "stderr",
          "output_type": "stream",
          "text": [
            "WARNING:tensorflow:Early stopping conditioned on metric `val_acc` which is not available. Available metrics are: loss,accuracy,val_loss,val_accuracy\n"
          ]
        },
        {
          "metadata": {
            "tags": null
          },
          "name": "stdout",
          "output_type": "stream",
          "text": [
            "375/375 [==============================] - 15s 41ms/step - loss: 0.0070 - accuracy: 0.9980 - val_loss: 0.0553 - val_accuracy: 0.9926\n",
            "Epoch 42/100\n",
            "375/375 [==============================] - ETA: 0s - loss: 0.0052 - accuracy: 0.9986"
          ]
        },
        {
          "metadata": {
            "tags": null
          },
          "name": "stderr",
          "output_type": "stream",
          "text": [
            "WARNING:tensorflow:Early stopping conditioned on metric `val_acc` which is not available. Available metrics are: loss,accuracy,val_loss,val_accuracy\n"
          ]
        },
        {
          "metadata": {
            "tags": null
          },
          "name": "stdout",
          "output_type": "stream",
          "text": [
            "375/375 [==============================] - 15s 39ms/step - loss: 0.0052 - accuracy: 0.9986 - val_loss: 0.0580 - val_accuracy: 0.9915\n",
            "Epoch 43/100\n",
            "375/375 [==============================] - ETA: 0s - loss: 0.0049 - accuracy: 0.9986"
          ]
        },
        {
          "metadata": {
            "tags": null
          },
          "name": "stderr",
          "output_type": "stream",
          "text": [
            "WARNING:tensorflow:Early stopping conditioned on metric `val_acc` which is not available. Available metrics are: loss,accuracy,val_loss,val_accuracy\n"
          ]
        },
        {
          "metadata": {
            "tags": null
          },
          "name": "stdout",
          "output_type": "stream",
          "text": [
            "375/375 [==============================] - 15s 41ms/step - loss: 0.0049 - accuracy: 0.9986 - val_loss: 0.0645 - val_accuracy: 0.9911\n",
            "Epoch 44/100\n",
            "375/375 [==============================] - ETA: 0s - loss: 0.0069 - accuracy: 0.9980"
          ]
        },
        {
          "metadata": {
            "tags": null
          },
          "name": "stderr",
          "output_type": "stream",
          "text": [
            "WARNING:tensorflow:Early stopping conditioned on metric `val_acc` which is not available. Available metrics are: loss,accuracy,val_loss,val_accuracy\n"
          ]
        },
        {
          "metadata": {
            "tags": null
          },
          "name": "stdout",
          "output_type": "stream",
          "text": [
            "375/375 [==============================] - 15s 39ms/step - loss: 0.0069 - accuracy: 0.9980 - val_loss: 0.0638 - val_accuracy: 0.9920\n",
            "Epoch 45/100\n",
            "375/375 [==============================] - ETA: 0s - loss: 0.0060 - accuracy: 0.9982"
          ]
        },
        {
          "metadata": {
            "tags": null
          },
          "name": "stderr",
          "output_type": "stream",
          "text": [
            "WARNING:tensorflow:Early stopping conditioned on metric `val_acc` which is not available. Available metrics are: loss,accuracy,val_loss,val_accuracy\n"
          ]
        },
        {
          "metadata": {
            "tags": null
          },
          "name": "stdout",
          "output_type": "stream",
          "text": [
            "375/375 [==============================] - 15s 40ms/step - loss: 0.0060 - accuracy: 0.9982 - val_loss: 0.0520 - val_accuracy: 0.9923\n",
            "Epoch 46/100\n",
            "375/375 [==============================] - ETA: 0s - loss: 0.0051 - accuracy: 0.9983"
          ]
        },
        {
          "metadata": {
            "tags": null
          },
          "name": "stderr",
          "output_type": "stream",
          "text": [
            "WARNING:tensorflow:Early stopping conditioned on metric `val_acc` which is not available. Available metrics are: loss,accuracy,val_loss,val_accuracy\n"
          ]
        },
        {
          "metadata": {
            "tags": null
          },
          "name": "stdout",
          "output_type": "stream",
          "text": [
            "375/375 [==============================] - 15s 41ms/step - loss: 0.0051 - accuracy: 0.9983 - val_loss: 0.0673 - val_accuracy: 0.9927\n",
            "Epoch 47/100\n",
            "375/375 [==============================] - ETA: 0s - loss: 0.0038 - accuracy: 0.9987"
          ]
        },
        {
          "metadata": {
            "tags": null
          },
          "name": "stderr",
          "output_type": "stream",
          "text": [
            "WARNING:tensorflow:Early stopping conditioned on metric `val_acc` which is not available. Available metrics are: loss,accuracy,val_loss,val_accuracy\n"
          ]
        },
        {
          "metadata": {
            "tags": null
          },
          "name": "stdout",
          "output_type": "stream",
          "text": [
            "375/375 [==============================] - 15s 39ms/step - loss: 0.0038 - accuracy: 0.9987 - val_loss: 0.0842 - val_accuracy: 0.9915\n",
            "Epoch 48/100\n",
            "375/375 [==============================] - ETA: 0s - loss: 0.0064 - accuracy: 0.9983"
          ]
        },
        {
          "metadata": {
            "tags": null
          },
          "name": "stderr",
          "output_type": "stream",
          "text": [
            "WARNING:tensorflow:Early stopping conditioned on metric `val_acc` which is not available. Available metrics are: loss,accuracy,val_loss,val_accuracy\n"
          ]
        },
        {
          "metadata": {
            "tags": null
          },
          "name": "stdout",
          "output_type": "stream",
          "text": [
            "375/375 [==============================] - 15s 41ms/step - loss: 0.0064 - accuracy: 0.9983 - val_loss: 0.0611 - val_accuracy: 0.9918\n",
            "Epoch 49/100\n",
            "375/375 [==============================] - ETA: 0s - loss: 0.0077 - accuracy: 0.9977"
          ]
        },
        {
          "metadata": {
            "tags": null
          },
          "name": "stderr",
          "output_type": "stream",
          "text": [
            "WARNING:tensorflow:Early stopping conditioned on metric `val_acc` which is not available. Available metrics are: loss,accuracy,val_loss,val_accuracy\n"
          ]
        },
        {
          "metadata": {
            "tags": null
          },
          "name": "stdout",
          "output_type": "stream",
          "text": [
            "375/375 [==============================] - 15s 39ms/step - loss: 0.0077 - accuracy: 0.9977 - val_loss: 0.0702 - val_accuracy: 0.9916\n",
            "Epoch 50/100\n",
            "375/375 [==============================] - ETA: 0s - loss: 0.0050 - accuracy: 0.9987"
          ]
        },
        {
          "metadata": {
            "tags": null
          },
          "name": "stderr",
          "output_type": "stream",
          "text": [
            "WARNING:tensorflow:Early stopping conditioned on metric `val_acc` which is not available. Available metrics are: loss,accuracy,val_loss,val_accuracy\n"
          ]
        },
        {
          "metadata": {
            "tags": null
          },
          "name": "stdout",
          "output_type": "stream",
          "text": [
            "375/375 [==============================] - 15s 41ms/step - loss: 0.0050 - accuracy: 0.9987 - val_loss: 0.0694 - val_accuracy: 0.9918\n",
            "Epoch 51/100\n",
            "375/375 [==============================] - ETA: 0s - loss: 0.0055 - accuracy: 0.9984"
          ]
        },
        {
          "metadata": {
            "tags": null
          },
          "name": "stderr",
          "output_type": "stream",
          "text": [
            "WARNING:tensorflow:Early stopping conditioned on metric `val_acc` which is not available. Available metrics are: loss,accuracy,val_loss,val_accuracy\n"
          ]
        },
        {
          "metadata": {
            "tags": null
          },
          "name": "stdout",
          "output_type": "stream",
          "text": [
            "375/375 [==============================] - 15s 40ms/step - loss: 0.0055 - accuracy: 0.9984 - val_loss: 0.0693 - val_accuracy: 0.9920\n",
            "Epoch 52/100\n",
            "375/375 [==============================] - ETA: 0s - loss: 0.0043 - accuracy: 0.9986"
          ]
        },
        {
          "metadata": {
            "tags": null
          },
          "name": "stderr",
          "output_type": "stream",
          "text": [
            "WARNING:tensorflow:Early stopping conditioned on metric `val_acc` which is not available. Available metrics are: loss,accuracy,val_loss,val_accuracy\n"
          ]
        },
        {
          "metadata": {
            "tags": null
          },
          "name": "stdout",
          "output_type": "stream",
          "text": [
            "375/375 [==============================] - 15s 41ms/step - loss: 0.0043 - accuracy: 0.9986 - val_loss: 0.0749 - val_accuracy: 0.9914\n",
            "Epoch 53/100\n",
            "375/375 [==============================] - ETA: 0s - loss: 0.0036 - accuracy: 0.9989"
          ]
        },
        {
          "metadata": {
            "tags": null
          },
          "name": "stderr",
          "output_type": "stream",
          "text": [
            "WARNING:tensorflow:Early stopping conditioned on metric `val_acc` which is not available. Available metrics are: loss,accuracy,val_loss,val_accuracy\n"
          ]
        },
        {
          "metadata": {
            "tags": null
          },
          "name": "stdout",
          "output_type": "stream",
          "text": [
            "375/375 [==============================] - 15s 40ms/step - loss: 0.0036 - accuracy: 0.9989 - val_loss: 0.0881 - val_accuracy: 0.9905\n",
            "Epoch 54/100\n",
            "375/375 [==============================] - ETA: 0s - loss: 0.0059 - accuracy: 0.9981"
          ]
        },
        {
          "metadata": {
            "tags": null
          },
          "name": "stderr",
          "output_type": "stream",
          "text": [
            "WARNING:tensorflow:Early stopping conditioned on metric `val_acc` which is not available. Available metrics are: loss,accuracy,val_loss,val_accuracy\n"
          ]
        },
        {
          "metadata": {
            "tags": null
          },
          "name": "stdout",
          "output_type": "stream",
          "text": [
            "375/375 [==============================] - 15s 40ms/step - loss: 0.0059 - accuracy: 0.9981 - val_loss: 0.0700 - val_accuracy: 0.9917\n",
            "Epoch 55/100\n",
            "375/375 [==============================] - ETA: 0s - loss: 0.0059 - accuracy: 0.9983"
          ]
        },
        {
          "metadata": {
            "tags": null
          },
          "name": "stderr",
          "output_type": "stream",
          "text": [
            "WARNING:tensorflow:Early stopping conditioned on metric `val_acc` which is not available. Available metrics are: loss,accuracy,val_loss,val_accuracy\n"
          ]
        },
        {
          "metadata": {
            "tags": null
          },
          "name": "stdout",
          "output_type": "stream",
          "text": [
            "375/375 [==============================] - 15s 39ms/step - loss: 0.0059 - accuracy: 0.9983 - val_loss: 0.0669 - val_accuracy: 0.9914\n",
            "Epoch 56/100\n",
            "375/375 [==============================] - ETA: 0s - loss: 0.0049 - accuracy: 0.9985"
          ]
        },
        {
          "metadata": {
            "tags": null
          },
          "name": "stderr",
          "output_type": "stream",
          "text": [
            "WARNING:tensorflow:Early stopping conditioned on metric `val_acc` which is not available. Available metrics are: loss,accuracy,val_loss,val_accuracy\n"
          ]
        },
        {
          "metadata": {
            "tags": null
          },
          "name": "stdout",
          "output_type": "stream",
          "text": [
            "375/375 [==============================] - 15s 40ms/step - loss: 0.0049 - accuracy: 0.9985 - val_loss: 0.0873 - val_accuracy: 0.9925\n",
            "Epoch 57/100\n",
            "375/375 [==============================] - ETA: 0s - loss: 0.0063 - accuracy: 0.9982"
          ]
        },
        {
          "metadata": {
            "tags": null
          },
          "name": "stderr",
          "output_type": "stream",
          "text": [
            "WARNING:tensorflow:Early stopping conditioned on metric `val_acc` which is not available. Available metrics are: loss,accuracy,val_loss,val_accuracy\n"
          ]
        },
        {
          "metadata": {
            "tags": null
          },
          "name": "stdout",
          "output_type": "stream",
          "text": [
            "375/375 [==============================] - 15s 39ms/step - loss: 0.0063 - accuracy: 0.9982 - val_loss: 0.0727 - val_accuracy: 0.9919\n",
            "Epoch 58/100\n",
            "375/375 [==============================] - ETA: 0s - loss: 0.0051 - accuracy: 0.9986"
          ]
        },
        {
          "metadata": {
            "tags": null
          },
          "name": "stderr",
          "output_type": "stream",
          "text": [
            "WARNING:tensorflow:Early stopping conditioned on metric `val_acc` which is not available. Available metrics are: loss,accuracy,val_loss,val_accuracy\n"
          ]
        },
        {
          "metadata": {
            "tags": null
          },
          "name": "stdout",
          "output_type": "stream",
          "text": [
            "375/375 [==============================] - 15s 40ms/step - loss: 0.0051 - accuracy: 0.9986 - val_loss: 0.0745 - val_accuracy: 0.9920\n",
            "Epoch 59/100\n",
            "375/375 [==============================] - ETA: 0s - loss: 0.0057 - accuracy: 0.9984"
          ]
        },
        {
          "metadata": {
            "tags": null
          },
          "name": "stderr",
          "output_type": "stream",
          "text": [
            "WARNING:tensorflow:Early stopping conditioned on metric `val_acc` which is not available. Available metrics are: loss,accuracy,val_loss,val_accuracy\n"
          ]
        },
        {
          "metadata": {
            "tags": null
          },
          "name": "stdout",
          "output_type": "stream",
          "text": [
            "375/375 [==============================] - 15s 39ms/step - loss: 0.0057 - accuracy: 0.9984 - val_loss: 0.0845 - val_accuracy: 0.9924\n",
            "Epoch 60/100\n",
            "375/375 [==============================] - ETA: 0s - loss: 0.0050 - accuracy: 0.9986"
          ]
        },
        {
          "metadata": {
            "tags": null
          },
          "name": "stderr",
          "output_type": "stream",
          "text": [
            "WARNING:tensorflow:Early stopping conditioned on metric `val_acc` which is not available. Available metrics are: loss,accuracy,val_loss,val_accuracy\n"
          ]
        },
        {
          "metadata": {
            "tags": null
          },
          "name": "stdout",
          "output_type": "stream",
          "text": [
            "375/375 [==============================] - 15s 41ms/step - loss: 0.0050 - accuracy: 0.9986 - val_loss: 0.0888 - val_accuracy: 0.9923\n",
            "Epoch 61/100\n",
            "375/375 [==============================] - ETA: 0s - loss: 0.0049 - accuracy: 0.9984"
          ]
        },
        {
          "metadata": {
            "tags": null
          },
          "name": "stderr",
          "output_type": "stream",
          "text": [
            "WARNING:tensorflow:Early stopping conditioned on metric `val_acc` which is not available. Available metrics are: loss,accuracy,val_loss,val_accuracy\n"
          ]
        },
        {
          "metadata": {
            "tags": null
          },
          "name": "stdout",
          "output_type": "stream",
          "text": [
            "375/375 [==============================] - 15s 41ms/step - loss: 0.0049 - accuracy: 0.9984 - val_loss: 0.0847 - val_accuracy: 0.9923\n",
            "Epoch 62/100\n",
            "375/375 [==============================] - ETA: 0s - loss: 0.0050 - accuracy: 0.9986"
          ]
        },
        {
          "metadata": {
            "tags": null
          },
          "name": "stderr",
          "output_type": "stream",
          "text": [
            "WARNING:tensorflow:Early stopping conditioned on metric `val_acc` which is not available. Available metrics are: loss,accuracy,val_loss,val_accuracy\n"
          ]
        },
        {
          "metadata": {
            "tags": null
          },
          "name": "stdout",
          "output_type": "stream",
          "text": [
            "375/375 [==============================] - 15s 41ms/step - loss: 0.0050 - accuracy: 0.9986 - val_loss: 0.0793 - val_accuracy: 0.9929\n",
            "Epoch 63/100\n",
            "375/375 [==============================] - ETA: 0s - loss: 0.0047 - accuracy: 0.9989"
          ]
        },
        {
          "metadata": {
            "tags": null
          },
          "name": "stderr",
          "output_type": "stream",
          "text": [
            "WARNING:tensorflow:Early stopping conditioned on metric `val_acc` which is not available. Available metrics are: loss,accuracy,val_loss,val_accuracy\n"
          ]
        },
        {
          "metadata": {
            "tags": null
          },
          "name": "stdout",
          "output_type": "stream",
          "text": [
            "375/375 [==============================] - 15s 39ms/step - loss: 0.0047 - accuracy: 0.9989 - val_loss: 0.0778 - val_accuracy: 0.9928\n",
            "Epoch 64/100\n",
            "375/375 [==============================] - ETA: 0s - loss: 0.0035 - accuracy: 0.9990"
          ]
        },
        {
          "metadata": {
            "tags": null
          },
          "name": "stderr",
          "output_type": "stream",
          "text": [
            "WARNING:tensorflow:Early stopping conditioned on metric `val_acc` which is not available. Available metrics are: loss,accuracy,val_loss,val_accuracy\n"
          ]
        },
        {
          "metadata": {
            "tags": null
          },
          "name": "stdout",
          "output_type": "stream",
          "text": [
            "375/375 [==============================] - 15s 39ms/step - loss: 0.0035 - accuracy: 0.9990 - val_loss: 0.0768 - val_accuracy: 0.9925\n",
            "Epoch 65/100\n",
            "375/375 [==============================] - ETA: 0s - loss: 0.0042 - accuracy: 0.9988"
          ]
        },
        {
          "metadata": {
            "tags": null
          },
          "name": "stderr",
          "output_type": "stream",
          "text": [
            "WARNING:tensorflow:Early stopping conditioned on metric `val_acc` which is not available. Available metrics are: loss,accuracy,val_loss,val_accuracy\n"
          ]
        },
        {
          "metadata": {
            "tags": null
          },
          "name": "stdout",
          "output_type": "stream",
          "text": [
            "375/375 [==============================] - 15s 39ms/step - loss: 0.0042 - accuracy: 0.9988 - val_loss: 0.0924 - val_accuracy: 0.9918\n",
            "Epoch 66/100\n",
            "375/375 [==============================] - ETA: 0s - loss: 0.0085 - accuracy: 0.9978"
          ]
        },
        {
          "metadata": {
            "tags": null
          },
          "name": "stderr",
          "output_type": "stream",
          "text": [
            "WARNING:tensorflow:Early stopping conditioned on metric `val_acc` which is not available. Available metrics are: loss,accuracy,val_loss,val_accuracy\n"
          ]
        },
        {
          "metadata": {
            "tags": null
          },
          "name": "stdout",
          "output_type": "stream",
          "text": [
            "375/375 [==============================] - 15s 40ms/step - loss: 0.0085 - accuracy: 0.9978 - val_loss: 0.0727 - val_accuracy: 0.9926\n",
            "Epoch 67/100\n",
            "375/375 [==============================] - ETA: 0s - loss: 0.0054 - accuracy: 0.9984"
          ]
        },
        {
          "metadata": {
            "tags": null
          },
          "name": "stderr",
          "output_type": "stream",
          "text": [
            "WARNING:tensorflow:Early stopping conditioned on metric `val_acc` which is not available. Available metrics are: loss,accuracy,val_loss,val_accuracy\n"
          ]
        },
        {
          "output_type": "stream",
          "name": "stdout",
          "text": [
            "375/375 [==============================] - 15s 40ms/step - loss: 0.0054 - accuracy: 0.9984 - val_loss: 0.0737 - val_accuracy: 0.9927\n",
            "Epoch 68/100\n",
            "375/375 [==============================] - ETA: 0s - loss: 0.0049 - accuracy: 0.9987"
          ]
        },
        {
          "output_type": "stream",
          "name": "stderr",
          "text": [
            "WARNING:tensorflow:Early stopping conditioned on metric `val_acc` which is not available. Available metrics are: loss,accuracy,val_loss,val_accuracy\n"
          ]
        },
        {
          "output_type": "stream",
          "name": "stdout",
          "text": [
            "\b\b\b\b\b\b\b\b\b\b\b\b\b\b\b\b\b\b\b\b\b\b\b\b\b\b\b\b\b\b\b\b\b\b\b\b\b\b\b\b\b\b\b\b\b\b\b\b\b\b\b\b\b\b\b\b\b\b\b\b\b\b\b\b\b\b\b\b\b\b\b\b\b\b\b\b\b\b\b\b\b\b\b\b\r375/375 [==============================] - 15s 39ms/step - loss: 0.0049 - accuracy: 0.9987 - val_loss: 0.0686 - val_accuracy: 0.9932\n",
            "Epoch 69/100\n",
            "375/375 [==============================] - ETA: 0s - loss: 0.0042 - accuracy: 0.9988"
          ]
        },
        {
          "output_type": "stream",
          "name": "stderr",
          "text": [
            "WARNING:tensorflow:Early stopping conditioned on metric `val_acc` which is not available. Available metrics are: loss,accuracy,val_loss,val_accuracy\n"
          ]
        },
        {
          "output_type": "stream",
          "name": "stdout",
          "text": [
            "\b\b\b\b\b\b\b\b\b\b\b\b\b\b\b\b\b\b\b\b\b\b\b\b\b\b\b\b\b\b\b\b\b\b\b\b\b\b\b\b\b\b\b\b\b\b\b\b\b\b\b\b\b\b\b\b\b\b\b\b\b\b\b\b\b\b\b\b\b\b\b\b\b\b\b\b\b\b\b\b\b\b\b\b\r375/375 [==============================] - 15s 39ms/step - loss: 0.0042 - accuracy: 0.9988 - val_loss: 0.0647 - val_accuracy: 0.9927\n",
            "Epoch 70/100\n",
            "375/375 [==============================] - ETA: 0s - loss: 0.0031 - accuracy: 0.9990"
          ]
        },
        {
          "output_type": "stream",
          "name": "stderr",
          "text": [
            "WARNING:tensorflow:Early stopping conditioned on metric `val_acc` which is not available. Available metrics are: loss,accuracy,val_loss,val_accuracy\n"
          ]
        },
        {
          "output_type": "stream",
          "name": "stdout",
          "text": [
            "\b\b\b\b\b\b\b\b\b\b\b\b\b\b\b\b\b\b\b\b\b\b\b\b\b\b\b\b\b\b\b\b\b\b\b\b\b\b\b\b\b\b\b\b\b\b\b\b\b\b\b\b\b\b\b\b\b\b\b\b\b\b\b\b\b\b\b\b\b\b\b\b\b\b\b\b\b\b\b\b\b\b\b\b\r375/375 [==============================] - 15s 39ms/step - loss: 0.0031 - accuracy: 0.9990 - val_loss: 0.0696 - val_accuracy: 0.9928\n",
            "Epoch 71/100\n",
            "375/375 [==============================] - ETA: 0s - loss: 0.0061 - accuracy: 0.9982"
          ]
        },
        {
          "output_type": "stream",
          "name": "stderr",
          "text": [
            "WARNING:tensorflow:Early stopping conditioned on metric `val_acc` which is not available. Available metrics are: loss,accuracy,val_loss,val_accuracy\n"
          ]
        },
        {
          "output_type": "stream",
          "name": "stdout",
          "text": [
            "\b\b\b\b\b\b\b\b\b\b\b\b\b\b\b\b\b\b\b\b\b\b\b\b\b\b\b\b\b\b\b\b\b\b\b\b\b\b\b\b\b\b\b\b\b\b\b\b\b\b\b\b\b\b\b\b\b\b\b\b\b\b\b\b\b\b\b\b\b\b\b\b\b\b\b\b\b\b\b\b\b\b\b\b\r375/375 [==============================] - 15s 41ms/step - loss: 0.0061 - accuracy: 0.9982 - val_loss: 0.0741 - val_accuracy: 0.9922\n",
            "Epoch 72/100\n",
            "375/375 [==============================] - ETA: 0s - loss: 0.0042 - accuracy: 0.9987"
          ]
        },
        {
          "output_type": "stream",
          "name": "stderr",
          "text": [
            "WARNING:tensorflow:Early stopping conditioned on metric `val_acc` which is not available. Available metrics are: loss,accuracy,val_loss,val_accuracy\n"
          ]
        },
        {
          "output_type": "stream",
          "name": "stdout",
          "text": [
            "\b\b\b\b\b\b\b\b\b\b\b\b\b\b\b\b\b\b\b\b\b\b\b\b\b\b\b\b\b\b\b\b\b\b\b\b\b\b\b\b\b\b\b\b\b\b\b\b\b\b\b\b\b\b\b\b\b\b\b\b\b\b\b\b\b\b\b\b\b\b\b\b\b\b\b\b\b\b\b\b\b\b\b\b\r375/375 [==============================] - 15s 40ms/step - loss: 0.0042 - accuracy: 0.9987 - val_loss: 0.0733 - val_accuracy: 0.9926\n",
            "Epoch 73/100\n",
            "375/375 [==============================] - ETA: 0s - loss: 0.0041 - accuracy: 0.9988"
          ]
        },
        {
          "output_type": "stream",
          "name": "stderr",
          "text": [
            "WARNING:tensorflow:Early stopping conditioned on metric `val_acc` which is not available. Available metrics are: loss,accuracy,val_loss,val_accuracy\n"
          ]
        },
        {
          "output_type": "stream",
          "name": "stdout",
          "text": [
            "\b\b\b\b\b\b\b\b\b\b\b\b\b\b\b\b\b\b\b\b\b\b\b\b\b\b\b\b\b\b\b\b\b\b\b\b\b\b\b\b\b\b\b\b\b\b\b\b\b\b\b\b\b\b\b\b\b\b\b\b\b\b\b\b\b\b\b\b\b\b\b\b\b\b\b\b\b\b\b\b\b\b\b\b\r375/375 [==============================] - 15s 40ms/step - loss: 0.0041 - accuracy: 0.9988 - val_loss: 0.1037 - val_accuracy: 0.9916\n",
            "Epoch 74/100\n",
            "375/375 [==============================] - ETA: 0s - loss: 0.0051 - accuracy: 0.9985"
          ]
        },
        {
          "output_type": "stream",
          "name": "stderr",
          "text": [
            "WARNING:tensorflow:Early stopping conditioned on metric `val_acc` which is not available. Available metrics are: loss,accuracy,val_loss,val_accuracy\n"
          ]
        },
        {
          "output_type": "stream",
          "name": "stdout",
          "text": [
            "\b\b\b\b\b\b\b\b\b\b\b\b\b\b\b\b\b\b\b\b\b\b\b\b\b\b\b\b\b\b\b\b\b\b\b\b\b\b\b\b\b\b\b\b\b\b\b\b\b\b\b\b\b\b\b\b\b\b\b\b\b\b\b\b\b\b\b\b\b\b\b\b\b\b\b\b\b\b\b\b\b\b\b\b\r375/375 [==============================] - 15s 39ms/step - loss: 0.0051 - accuracy: 0.9985 - val_loss: 0.0784 - val_accuracy: 0.9911\n",
            "Epoch 75/100\n",
            "375/375 [==============================] - ETA: 0s - loss: 0.0062 - accuracy: 0.9984"
          ]
        },
        {
          "output_type": "stream",
          "name": "stderr",
          "text": [
            "WARNING:tensorflow:Early stopping conditioned on metric `val_acc` which is not available. Available metrics are: loss,accuracy,val_loss,val_accuracy\n"
          ]
        },
        {
          "output_type": "stream",
          "name": "stdout",
          "text": [
            "\b\b\b\b\b\b\b\b\b\b\b\b\b\b\b\b\b\b\b\b\b\b\b\b\b\b\b\b\b\b\b\b\b\b\b\b\b\b\b\b\b\b\b\b\b\b\b\b\b\b\b\b\b\b\b\b\b\b\b\b\b\b\b\b\b\b\b\b\b\b\b\b\b\b\b\b\b\b\b\b\b\b\b\b\r375/375 [==============================] - 15s 40ms/step - loss: 0.0062 - accuracy: 0.9984 - val_loss: 0.0807 - val_accuracy: 0.9928\n",
            "Epoch 76/100\n",
            "375/375 [==============================] - ETA: 0s - loss: 0.0055 - accuracy: 0.9985"
          ]
        },
        {
          "output_type": "stream",
          "name": "stderr",
          "text": [
            "WARNING:tensorflow:Early stopping conditioned on metric `val_acc` which is not available. Available metrics are: loss,accuracy,val_loss,val_accuracy\n"
          ]
        },
        {
          "output_type": "stream",
          "name": "stdout",
          "text": [
            "\b\b\b\b\b\b\b\b\b\b\b\b\b\b\b\b\b\b\b\b\b\b\b\b\b\b\b\b\b\b\b\b\b\b\b\b\b\b\b\b\b\b\b\b\b\b\b\b\b\b\b\b\b\b\b\b\b\b\b\b\b\b\b\b\b\b\b\b\b\b\b\b\b\b\b\b\b\b\b\b\b\b\b\b\r375/375 [==============================] - 15s 39ms/step - loss: 0.0055 - accuracy: 0.9985 - val_loss: 0.0697 - val_accuracy: 0.9924\n",
            "Epoch 77/100\n",
            "375/375 [==============================] - ETA: 0s - loss: 0.0045 - accuracy: 0.9986"
          ]
        },
        {
          "output_type": "stream",
          "name": "stderr",
          "text": [
            "WARNING:tensorflow:Early stopping conditioned on metric `val_acc` which is not available. Available metrics are: loss,accuracy,val_loss,val_accuracy\n"
          ]
        },
        {
          "output_type": "stream",
          "name": "stdout",
          "text": [
            "\b\b\b\b\b\b\b\b\b\b\b\b\b\b\b\b\b\b\b\b\b\b\b\b\b\b\b\b\b\b\b\b\b\b\b\b\b\b\b\b\b\b\b\b\b\b\b\b\b\b\b\b\b\b\b\b\b\b\b\b\b\b\b\b\b\b\b\b\b\b\b\b\b\b\b\b\b\b\b\b\b\b\b\b\r375/375 [==============================] - 15s 41ms/step - loss: 0.0045 - accuracy: 0.9986 - val_loss: 0.0845 - val_accuracy: 0.9922\n",
            "Epoch 78/100\n",
            "375/375 [==============================] - ETA: 0s - loss: 0.0053 - accuracy: 0.9985"
          ]
        },
        {
          "output_type": "stream",
          "name": "stderr",
          "text": [
            "WARNING:tensorflow:Early stopping conditioned on metric `val_acc` which is not available. Available metrics are: loss,accuracy,val_loss,val_accuracy\n"
          ]
        },
        {
          "output_type": "stream",
          "name": "stdout",
          "text": [
            "\b\b\b\b\b\b\b\b\b\b\b\b\b\b\b\b\b\b\b\b\b\b\b\b\b\b\b\b\b\b\b\b\b\b\b\b\b\b\b\b\b\b\b\b\b\b\b\b\b\b\b\b\b\b\b\b\b\b\b\b\b\b\b\b\b\b\b\b\b\b\b\b\b\b\b\b\b\b\b\b\b\b\b\b\r375/375 [==============================] - 15s 39ms/step - loss: 0.0053 - accuracy: 0.9985 - val_loss: 0.0753 - val_accuracy: 0.9927\n",
            "Epoch 79/100\n",
            "375/375 [==============================] - ETA: 0s - loss: 0.0030 - accuracy: 0.9991"
          ]
        },
        {
          "output_type": "stream",
          "name": "stderr",
          "text": [
            "WARNING:tensorflow:Early stopping conditioned on metric `val_acc` which is not available. Available metrics are: loss,accuracy,val_loss,val_accuracy\n"
          ]
        },
        {
          "output_type": "stream",
          "name": "stdout",
          "text": [
            "\b\b\b\b\b\b\b\b\b\b\b\b\b\b\b\b\b\b\b\b\b\b\b\b\b\b\b\b\b\b\b\b\b\b\b\b\b\b\b\b\b\b\b\b\b\b\b\b\b\b\b\b\b\b\b\b\b\b\b\b\b\b\b\b\b\b\b\b\b\b\b\b\b\b\b\b\b\b\b\b\b\b\b\b\r375/375 [==============================] - 15s 40ms/step - loss: 0.0030 - accuracy: 0.9991 - val_loss: 0.0774 - val_accuracy: 0.9927\n",
            "Epoch 80/100\n",
            "375/375 [==============================] - ETA: 0s - loss: 0.0038 - accuracy: 0.9990"
          ]
        },
        {
          "output_type": "stream",
          "name": "stderr",
          "text": [
            "WARNING:tensorflow:Early stopping conditioned on metric `val_acc` which is not available. Available metrics are: loss,accuracy,val_loss,val_accuracy\n"
          ]
        },
        {
          "output_type": "stream",
          "name": "stdout",
          "text": [
            "\b\b\b\b\b\b\b\b\b\b\b\b\b\b\b\b\b\b\b\b\b\b\b\b\b\b\b\b\b\b\b\b\b\b\b\b\b\b\b\b\b\b\b\b\b\b\b\b\b\b\b\b\b\b\b\b\b\b\b\b\b\b\b\b\b\b\b\b\b\b\b\b\b\b\b\b\b\b\b\b\b\b\b\b\r375/375 [==============================] - 15s 40ms/step - loss: 0.0038 - accuracy: 0.9990 - val_loss: 0.0803 - val_accuracy: 0.9930\n",
            "Epoch 81/100\n",
            "375/375 [==============================] - ETA: 0s - loss: 0.0051 - accuracy: 0.9987"
          ]
        },
        {
          "output_type": "stream",
          "name": "stderr",
          "text": [
            "WARNING:tensorflow:Early stopping conditioned on metric `val_acc` which is not available. Available metrics are: loss,accuracy,val_loss,val_accuracy\n"
          ]
        },
        {
          "output_type": "stream",
          "name": "stdout",
          "text": [
            "\b\b\b\b\b\b\b\b\b\b\b\b\b\b\b\b\b\b\b\b\b\b\b\b\b\b\b\b\b\b\b\b\b\b\b\b\b\b\b\b\b\b\b\b\b\b\b\b\b\b\b\b\b\b\b\b\b\b\b\b\b\b\b\b\b\b\b\b\b\b\b\b\b\b\b\b\b\b\b\b\b\b\b\b\r375/375 [==============================] - 15s 40ms/step - loss: 0.0051 - accuracy: 0.9987 - val_loss: 0.0677 - val_accuracy: 0.9934\n",
            "Epoch 82/100\n",
            "375/375 [==============================] - ETA: 0s - loss: 0.0038 - accuracy: 0.9990"
          ]
        },
        {
          "output_type": "stream",
          "name": "stderr",
          "text": [
            "WARNING:tensorflow:Early stopping conditioned on metric `val_acc` which is not available. Available metrics are: loss,accuracy,val_loss,val_accuracy\n"
          ]
        },
        {
          "output_type": "stream",
          "name": "stdout",
          "text": [
            "\b\b\b\b\b\b\b\b\b\b\b\b\b\b\b\b\b\b\b\b\b\b\b\b\b\b\b\b\b\b\b\b\b\b\b\b\b\b\b\b\b\b\b\b\b\b\b\b\b\b\b\b\b\b\b\b\b\b\b\b\b\b\b\b\b\b\b\b\b\b\b\b\b\b\b\b\b\b\b\b\b\b\b\b\r375/375 [==============================] - 15s 39ms/step - loss: 0.0038 - accuracy: 0.9990 - val_loss: 0.0788 - val_accuracy: 0.9930\n",
            "Epoch 83/100\n",
            "375/375 [==============================] - ETA: 0s - loss: 0.0030 - accuracy: 0.9991"
          ]
        },
        {
          "output_type": "stream",
          "name": "stderr",
          "text": [
            "WARNING:tensorflow:Early stopping conditioned on metric `val_acc` which is not available. Available metrics are: loss,accuracy,val_loss,val_accuracy\n"
          ]
        },
        {
          "output_type": "stream",
          "name": "stdout",
          "text": [
            "\b\b\b\b\b\b\b\b\b\b\b\b\b\b\b\b\b\b\b\b\b\b\b\b\b\b\b\b\b\b\b\b\b\b\b\b\b\b\b\b\b\b\b\b\b\b\b\b\b\b\b\b\b\b\b\b\b\b\b\b\b\b\b\b\b\b\b\b\b\b\b\b\b\b\b\b\b\b\b\b\b\b\b\b\r375/375 [==============================] - 15s 39ms/step - loss: 0.0030 - accuracy: 0.9991 - val_loss: 0.0872 - val_accuracy: 0.9933\n",
            "Epoch 84/100\n",
            "375/375 [==============================] - ETA: 0s - loss: 0.0042 - accuracy: 0.9989"
          ]
        },
        {
          "output_type": "stream",
          "name": "stderr",
          "text": [
            "WARNING:tensorflow:Early stopping conditioned on metric `val_acc` which is not available. Available metrics are: loss,accuracy,val_loss,val_accuracy\n"
          ]
        },
        {
          "output_type": "stream",
          "name": "stdout",
          "text": [
            "\b\b\b\b\b\b\b\b\b\b\b\b\b\b\b\b\b\b\b\b\b\b\b\b\b\b\b\b\b\b\b\b\b\b\b\b\b\b\b\b\b\b\b\b\b\b\b\b\b\b\b\b\b\b\b\b\b\b\b\b\b\b\b\b\b\b\b\b\b\b\b\b\b\b\b\b\b\b\b\b\b\b\b\b\r375/375 [==============================] - 15s 39ms/step - loss: 0.0042 - accuracy: 0.9989 - val_loss: 0.1029 - val_accuracy: 0.9927\n",
            "Epoch 85/100\n",
            "375/375 [==============================] - ETA: 0s - loss: 0.0059 - accuracy: 0.9986"
          ]
        },
        {
          "output_type": "stream",
          "name": "stderr",
          "text": [
            "WARNING:tensorflow:Early stopping conditioned on metric `val_acc` which is not available. Available metrics are: loss,accuracy,val_loss,val_accuracy\n"
          ]
        },
        {
          "output_type": "stream",
          "name": "stdout",
          "text": [
            "\b\b\b\b\b\b\b\b\b\b\b\b\b\b\b\b\b\b\b\b\b\b\b\b\b\b\b\b\b\b\b\b\b\b\b\b\b\b\b\b\b\b\b\b\b\b\b\b\b\b\b\b\b\b\b\b\b\b\b\b\b\b\b\b\b\b\b\b\b\b\b\b\b\b\b\b\b\b\b\b\b\b\b\b\r375/375 [==============================] - 15s 41ms/step - loss: 0.0059 - accuracy: 0.9986 - val_loss: 0.1048 - val_accuracy: 0.9918\n",
            "Epoch 86/100\n",
            "375/375 [==============================] - ETA: 0s - loss: 0.0053 - accuracy: 0.9987"
          ]
        },
        {
          "output_type": "stream",
          "name": "stderr",
          "text": [
            "WARNING:tensorflow:Early stopping conditioned on metric `val_acc` which is not available. Available metrics are: loss,accuracy,val_loss,val_accuracy\n"
          ]
        },
        {
          "output_type": "stream",
          "name": "stdout",
          "text": [
            "\b\b\b\b\b\b\b\b\b\b\b\b\b\b\b\b\b\b\b\b\b\b\b\b\b\b\b\b\b\b\b\b\b\b\b\b\b\b\b\b\b\b\b\b\b\b\b\b\b\b\b\b\b\b\b\b\b\b\b\b\b\b\b\b\b\b\b\b\b\b\b\b\b\b\b\b\b\b\b\b\b\b\b\b\r375/375 [==============================] - 15s 39ms/step - loss: 0.0053 - accuracy: 0.9987 - val_loss: 0.0970 - val_accuracy: 0.9922\n",
            "Epoch 87/100\n",
            "375/375 [==============================] - ETA: 0s - loss: 0.0061 - accuracy: 0.9984"
          ]
        },
        {
          "output_type": "stream",
          "name": "stderr",
          "text": [
            "WARNING:tensorflow:Early stopping conditioned on metric `val_acc` which is not available. Available metrics are: loss,accuracy,val_loss,val_accuracy\n"
          ]
        },
        {
          "output_type": "stream",
          "name": "stdout",
          "text": [
            "\b\b\b\b\b\b\b\b\b\b\b\b\b\b\b\b\b\b\b\b\b\b\b\b\b\b\b\b\b\b\b\b\b\b\b\b\b\b\b\b\b\b\b\b\b\b\b\b\b\b\b\b\b\b\b\b\b\b\b\b\b\b\b\b\b\b\b\b\b\b\b\b\b\b\b\b\b\b\b\b\b\b\b\b\r375/375 [==============================] - 15s 40ms/step - loss: 0.0061 - accuracy: 0.9984 - val_loss: 0.0829 - val_accuracy: 0.9921\n",
            "Epoch 88/100\n",
            "375/375 [==============================] - ETA: 0s - loss: 0.0038 - accuracy: 0.9987"
          ]
        },
        {
          "output_type": "stream",
          "name": "stderr",
          "text": [
            "WARNING:tensorflow:Early stopping conditioned on metric `val_acc` which is not available. Available metrics are: loss,accuracy,val_loss,val_accuracy\n"
          ]
        },
        {
          "output_type": "stream",
          "name": "stdout",
          "text": [
            "\b\b\b\b\b\b\b\b\b\b\b\b\b\b\b\b\b\b\b\b\b\b\b\b\b\b\b\b\b\b\b\b\b\b\b\b\b\b\b\b\b\b\b\b\b\b\b\b\b\b\b\b\b\b\b\b\b\b\b\b\b\b\b\b\b\b\b\b\b\b\b\b\b\b\b\b\b\b\b\b\b\b\b\b\r375/375 [==============================] - 15s 41ms/step - loss: 0.0038 - accuracy: 0.9987 - val_loss: 0.0857 - val_accuracy: 0.9923\n",
            "Epoch 89/100\n",
            "375/375 [==============================] - ETA: 0s - loss: 0.0036 - accuracy: 0.9989"
          ]
        },
        {
          "output_type": "stream",
          "name": "stderr",
          "text": [
            "WARNING:tensorflow:Early stopping conditioned on metric `val_acc` which is not available. Available metrics are: loss,accuracy,val_loss,val_accuracy\n"
          ]
        },
        {
          "output_type": "stream",
          "name": "stdout",
          "text": [
            "\b\b\b\b\b\b\b\b\b\b\b\b\b\b\b\b\b\b\b\b\b\b\b\b\b\b\b\b\b\b\b\b\b\b\b\b\b\b\b\b\b\b\b\b\b\b\b\b\b\b\b\b\b\b\b\b\b\b\b\b\b\b\b\b\b\b\b\b\b\b\b\b\b\b\b\b\b\b\b\b\b\b\b\b\r375/375 [==============================] - 15s 39ms/step - loss: 0.0036 - accuracy: 0.9989 - val_loss: 0.0985 - val_accuracy: 0.9917\n",
            "Epoch 90/100\n",
            "375/375 [==============================] - ETA: 0s - loss: 0.0035 - accuracy: 0.9990"
          ]
        },
        {
          "output_type": "stream",
          "name": "stderr",
          "text": [
            "WARNING:tensorflow:Early stopping conditioned on metric `val_acc` which is not available. Available metrics are: loss,accuracy,val_loss,val_accuracy\n"
          ]
        },
        {
          "output_type": "stream",
          "name": "stdout",
          "text": [
            "\b\b\b\b\b\b\b\b\b\b\b\b\b\b\b\b\b\b\b\b\b\b\b\b\b\b\b\b\b\b\b\b\b\b\b\b\b\b\b\b\b\b\b\b\b\b\b\b\b\b\b\b\b\b\b\b\b\b\b\b\b\b\b\b\b\b\b\b\b\b\b\b\b\b\b\b\b\b\b\b\b\b\b\b\r375/375 [==============================] - 15s 41ms/step - loss: 0.0035 - accuracy: 0.9990 - val_loss: 0.0967 - val_accuracy: 0.9927\n",
            "Epoch 91/100\n",
            "375/375 [==============================] - ETA: 0s - loss: 0.0048 - accuracy: 0.9987"
          ]
        },
        {
          "output_type": "stream",
          "name": "stderr",
          "text": [
            "WARNING:tensorflow:Early stopping conditioned on metric `val_acc` which is not available. Available metrics are: loss,accuracy,val_loss,val_accuracy\n"
          ]
        },
        {
          "output_type": "stream",
          "name": "stdout",
          "text": [
            "\b\b\b\b\b\b\b\b\b\b\b\b\b\b\b\b\b\b\b\b\b\b\b\b\b\b\b\b\b\b\b\b\b\b\b\b\b\b\b\b\b\b\b\b\b\b\b\b\b\b\b\b\b\b\b\b\b\b\b\b\b\b\b\b\b\b\b\b\b\b\b\b\b\b\b\b\b\b\b\b\b\b\b\b\r375/375 [==============================] - 15s 39ms/step - loss: 0.0048 - accuracy: 0.9987 - val_loss: 0.0803 - val_accuracy: 0.9927\n",
            "Epoch 92/100\n",
            "375/375 [==============================] - ETA: 0s - loss: 0.0025 - accuracy: 0.9993"
          ]
        },
        {
          "output_type": "stream",
          "name": "stderr",
          "text": [
            "WARNING:tensorflow:Early stopping conditioned on metric `val_acc` which is not available. Available metrics are: loss,accuracy,val_loss,val_accuracy\n"
          ]
        },
        {
          "output_type": "stream",
          "name": "stdout",
          "text": [
            "\b\b\b\b\b\b\b\b\b\b\b\b\b\b\b\b\b\b\b\b\b\b\b\b\b\b\b\b\b\b\b\b\b\b\b\b\b\b\b\b\b\b\b\b\b\b\b\b\b\b\b\b\b\b\b\b\b\b\b\b\b\b\b\b\b\b\b\b\b\b\b\b\b\b\b\b\b\b\b\b\b\b\b\b\r375/375 [==============================] - 15s 40ms/step - loss: 0.0025 - accuracy: 0.9993 - val_loss: 0.0890 - val_accuracy: 0.9923\n",
            "Epoch 93/100\n",
            "375/375 [==============================] - ETA: 0s - loss: 0.0052 - accuracy: 0.9987"
          ]
        },
        {
          "output_type": "stream",
          "name": "stderr",
          "text": [
            "WARNING:tensorflow:Early stopping conditioned on metric `val_acc` which is not available. Available metrics are: loss,accuracy,val_loss,val_accuracy\n"
          ]
        },
        {
          "output_type": "stream",
          "name": "stdout",
          "text": [
            "\b\b\b\b\b\b\b\b\b\b\b\b\b\b\b\b\b\b\b\b\b\b\b\b\b\b\b\b\b\b\b\b\b\b\b\b\b\b\b\b\b\b\b\b\b\b\b\b\b\b\b\b\b\b\b\b\b\b\b\b\b\b\b\b\b\b\b\b\b\b\b\b\b\b\b\b\b\b\b\b\b\b\b\b\r375/375 [==============================] - 15s 40ms/step - loss: 0.0052 - accuracy: 0.9987 - val_loss: 0.0808 - val_accuracy: 0.9923\n",
            "Epoch 94/100\n",
            "375/375 [==============================] - ETA: 0s - loss: 0.0044 - accuracy: 0.9988"
          ]
        },
        {
          "output_type": "stream",
          "name": "stderr",
          "text": [
            "WARNING:tensorflow:Early stopping conditioned on metric `val_acc` which is not available. Available metrics are: loss,accuracy,val_loss,val_accuracy\n"
          ]
        },
        {
          "output_type": "stream",
          "name": "stdout",
          "text": [
            "\b\b\b\b\b\b\b\b\b\b\b\b\b\b\b\b\b\b\b\b\b\b\b\b\b\b\b\b\b\b\b\b\b\b\b\b\b\b\b\b\b\b\b\b\b\b\b\b\b\b\b\b\b\b\b\b\b\b\b\b\b\b\b\b\b\b\b\b\b\b\b\b\b\b\b\b\b\b\b\b\b\b\b\b\r375/375 [==============================] - 15s 40ms/step - loss: 0.0044 - accuracy: 0.9988 - val_loss: 0.0916 - val_accuracy: 0.9923\n",
            "Epoch 95/100\n",
            "375/375 [==============================] - ETA: 0s - loss: 0.0039 - accuracy: 0.9989"
          ]
        },
        {
          "output_type": "stream",
          "name": "stderr",
          "text": [
            "WARNING:tensorflow:Early stopping conditioned on metric `val_acc` which is not available. Available metrics are: loss,accuracy,val_loss,val_accuracy\n"
          ]
        },
        {
          "output_type": "stream",
          "name": "stdout",
          "text": [
            "\b\b\b\b\b\b\b\b\b\b\b\b\b\b\b\b\b\b\b\b\b\b\b\b\b\b\b\b\b\b\b\b\b\b\b\b\b\b\b\b\b\b\b\b\b\b\b\b\b\b\b\b\b\b\b\b\b\b\b\b\b\b\b\b\b\b\b\b\b\b\b\b\b\b\b\b\b\b\b\b\b\b\b\b\r375/375 [==============================] - 15s 41ms/step - loss: 0.0039 - accuracy: 0.9989 - val_loss: 0.1029 - val_accuracy: 0.9914\n",
            "Epoch 96/100\n",
            "375/375 [==============================] - ETA: 0s - loss: 0.0042 - accuracy: 0.9989"
          ]
        },
        {
          "output_type": "stream",
          "name": "stderr",
          "text": [
            "WARNING:tensorflow:Early stopping conditioned on metric `val_acc` which is not available. Available metrics are: loss,accuracy,val_loss,val_accuracy\n"
          ]
        },
        {
          "output_type": "stream",
          "name": "stdout",
          "text": [
            "\b\b\b\b\b\b\b\b\b\b\b\b\b\b\b\b\b\b\b\b\b\b\b\b\b\b\b\b\b\b\b\b\b\b\b\b\b\b\b\b\b\b\b\b\b\b\b\b\b\b\b\b\b\b\b\b\b\b\b\b\b\b\b\b\b\b\b\b\b\b\b\b\b\b\b\b\b\b\b\b\b\b\b\b\r375/375 [==============================] - 15s 40ms/step - loss: 0.0042 - accuracy: 0.9989 - val_loss: 0.0921 - val_accuracy: 0.9918\n",
            "Epoch 97/100\n",
            "375/375 [==============================] - ETA: 0s - loss: 0.0053 - accuracy: 0.9987"
          ]
        },
        {
          "output_type": "stream",
          "name": "stderr",
          "text": [
            "WARNING:tensorflow:Early stopping conditioned on metric `val_acc` which is not available. Available metrics are: loss,accuracy,val_loss,val_accuracy\n"
          ]
        },
        {
          "output_type": "stream",
          "name": "stdout",
          "text": [
            "\b\b\b\b\b\b\b\b\b\b\b\b\b\b\b\b\b\b\b\b\b\b\b\b\b\b\b\b\b\b\b\b\b\b\b\b\b\b\b\b\b\b\b\b\b\b\b\b\b\b\b\b\b\b\b\b\b\b\b\b\b\b\b\b\b\b\b\b\b\b\b\b\b\b\b\b\b\b\b\b\b\b\b\b\r375/375 [==============================] - 15s 41ms/step - loss: 0.0053 - accuracy: 0.9987 - val_loss: 0.1137 - val_accuracy: 0.9923\n",
            "Epoch 98/100\n",
            "375/375 [==============================] - ETA: 0s - loss: 0.0054 - accuracy: 0.9986"
          ]
        },
        {
          "output_type": "stream",
          "name": "stderr",
          "text": [
            "WARNING:tensorflow:Early stopping conditioned on metric `val_acc` which is not available. Available metrics are: loss,accuracy,val_loss,val_accuracy\n"
          ]
        },
        {
          "output_type": "stream",
          "name": "stdout",
          "text": [
            "\b\b\b\b\b\b\b\b\b\b\b\b\b\b\b\b\b\b\b\b\b\b\b\b\b\b\b\b\b\b\b\b\b\b\b\b\b\b\b\b\b\b\b\b\b\b\b\b\b\b\b\b\b\b\b\b\b\b\b\b\b\b\b\b\b\b\b\b\b\b\b\b\b\b\b\b\b\b\b\b\b\b\b\b\r375/375 [==============================] - 15s 40ms/step - loss: 0.0054 - accuracy: 0.9986 - val_loss: 0.1157 - val_accuracy: 0.9917\n",
            "Epoch 99/100\n",
            "375/375 [==============================] - ETA: 0s - loss: 0.0047 - accuracy: 0.9989"
          ]
        },
        {
          "output_type": "stream",
          "name": "stderr",
          "text": [
            "WARNING:tensorflow:Early stopping conditioned on metric `val_acc` which is not available. Available metrics are: loss,accuracy,val_loss,val_accuracy\n"
          ]
        },
        {
          "output_type": "stream",
          "name": "stdout",
          "text": [
            "\b\b\b\b\b\b\b\b\b\b\b\b\b\b\b\b\b\b\b\b\b\b\b\b\b\b\b\b\b\b\b\b\b\b\b\b\b\b\b\b\b\b\b\b\b\b\b\b\b\b\b\b\b\b\b\b\b\b\b\b\b\b\b\b\b\b\b\b\b\b\b\b\b\b\b\b\b\b\b\b\b\b\b\b\r375/375 [==============================] - 15s 40ms/step - loss: 0.0047 - accuracy: 0.9989 - val_loss: 0.1100 - val_accuracy: 0.9922\n",
            "Epoch 100/100\n",
            "375/375 [==============================] - ETA: 0s - loss: 0.0045 - accuracy: 0.9990"
          ]
        },
        {
          "output_type": "stream",
          "name": "stderr",
          "text": [
            "WARNING:tensorflow:Early stopping conditioned on metric `val_acc` which is not available. Available metrics are: loss,accuracy,val_loss,val_accuracy\n"
          ]
        },
        {
          "output_type": "stream",
          "name": "stdout",
          "text": [
            "\b\b\b\b\b\b\b\b\b\b\b\b\b\b\b\b\b\b\b\b\b\b\b\b\b\b\b\b\b\b\b\b\b\b\b\b\b\b\b\b\b\b\b\b\b\b\b\b\b\b\b\b\b\b\b\b\b\b\b\b\b\b\b\b\b\b\b\b\b\b\b\b\b\b\b\b\b\b\b\b\b\b\b\b\r375/375 [==============================] - 15s 40ms/step - loss: 0.0045 - accuracy: 0.9990 - val_loss: 0.0865 - val_accuracy: 0.9928\n"
          ]
        },
        {
          "output_type": "execute_result",
          "data": {
            "text/plain": [
              "<keras.src.callbacks.History at 0x789b5131bca0>"
            ]
          },
          "metadata": {},
          "execution_count": 10
        }
      ]
    },
    {
      "cell_type": "code",
      "source": [
        "score = model.evaluate(x_test, y_test, verbose = 0)\n",
        "print('Test Loss : ', score[0])\n",
        "print('Test Accuracy : ', score[1])\n",
        "\n",
        "preds = model.predict(x_test)\n",
        "n_examples = 10\n",
        "plt.figure(figsize=(15,15))\n",
        "for i in range(n_examples):\n",
        "  ax = plt.subplot(2, n_examples, i+1)\n",
        "  plt.imshow(x_test[i, :, :, 0], cmap = 'gray')\n",
        "  plt.title(\"Label : {}\\nPredicted : {}\".format(np.argmax(y_test[i]), np.argmax(preds[i])))\n",
        "  plt.axis('off')"
      ],
      "metadata": {
        "id": "AzvORm6IvunJ",
        "colab": {
          "base_uri": "https://localhost:8080/",
          "height": 226
        },
        "outputId": "81d07ada-8542-4548-cfe4-9ac10512942d"
      },
      "execution_count": null,
      "outputs": [
        {
          "output_type": "stream",
          "name": "stdout",
          "text": [
            "Test Loss :  0.06791581958532333\n",
            "Test Accuracy :  0.9923999905586243\n",
            "313/313 [==============================] - 1s 3ms/step\n"
          ]
        },
        {
          "output_type": "display_data",
          "data": {
            "text/plain": [
              "<Figure size 1500x1500 with 10 Axes>"
            ],
            "image/png": "[encoded data removed]"
          },
          "metadata": {}
        }
      ]
    },
    {
      "cell_type": "code",
      "source": [
        "plt.figure(figsize=(15,15))\n",
        "j=1\n",
        "for i in range(len(y_test)):\n",
        "  if(j>10):\n",
        "    break\n",
        "  label = np.argmax(y_test[i])\n",
        "  pred = np.argmax(preds[i])\n",
        "  if label != pred:\n",
        "    ax = plt.subplot(2, n_examples, j)\n",
        "    plt.imshow(x_test[i, :, :, 0], cmap = 'gray')\n",
        "    plt.title(\"Label : {}\\nPredicted : {}\".format(label, pred))\n",
        "    j += 1\n",
        "plt.show()"
      ],
      "metadata": {
        "id": "PKlPdSTM3MZf",
        "colab": {
          "base_uri": "https://localhost:8080/",
          "height": 193
        },
        "outputId": "e993e7f1-5f08-4042-8af9-6cf1cbcd970b"
      },
      "execution_count": null,
      "outputs": [
        {
          "output_type": "display_data",
          "data": {
            "text/plain": [
              "<Figure size 1500x1500 with 10 Axes>"
            ],
            "image/png": "[encoded data removed]"
          },
          "metadata": {}
        }
      ]
    },
    {
      "cell_type": "code",
      "source": [],
      "metadata": {
        "id": "DUPCtolCMCmx"
      },
      "execution_count": null,
      "outputs": []
    }
  ]
}