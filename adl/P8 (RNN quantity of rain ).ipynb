{
  "nbformat": 4,
  "nbformat_minor": 0,
  "metadata": {
    "colab": {
      "provenance": []
    },
    "kernelspec": {
      "name": "python3",
      "display_name": "Python 3"
    },
    "language_info": {
      "name": "python"
    }
  },
  "cells": [
    {
      "cell_type": "code",
      "source": [
        "import numpy as np\n",
        "\n",
        "x = [\n",
        "    [1, 0, 0, 0],\n",
        "    [0, 1, 0, 0],\n",
        "    [0, 0, 1, 0],\n",
        "    [0, 0, 0, 1],\n",
        "    [0, 0, 0, 1],\n",
        "    [1, 0, 0, 0],\n",
        "    [0, 1, 0, 0],\n",
        "    [0, 0, 1, 0],\n",
        "    [0, 0, 0, 1]\n",
        "]\n",
        "\n",
        "y = [0.20, 0.30, 0.40, 0.50, 0.05, 0.10, 0.20, 0.30, 0.40]\n",
        "\n",
        "def sigmoid(x):\n",
        "    return 1 / (1 + np.exp(-x))\n",
        "\n",
        "def sigmoid_der(x):\n",
        "    return x * (1 - x)\n",
        "\n",
        "n_units = [4, 16, 1]\n",
        "n_layers = len(n_units)\n",
        "\n",
        "layers = [np.ones(n_units[i]) for i in range(n_layers)]\n",
        "weights = [np.random.randn(n_units[i], n_units[i + 1]) for i in range(n_layers - 1)]\n",
        "weights_delta = [np.zeros_like(weights[i]) for i in range(len(weights))]\n",
        "\n",
        "# Forward pass\n",
        "def forward(data):\n",
        "    layers[0] = data\n",
        "    for i in range(1, n_layers):\n",
        "        layers[i] = sigmoid(np.dot(layers[i - 1], weights[i - 1]))\n",
        "    return layers[-1]\n",
        "\n",
        "def backwards(target, learning_rate=0.1, momentum=0.1):\n",
        "    error = target - layers[-1]\n",
        "    deltas = [error * sigmoid_der(layers[-1])]\n",
        "\n",
        "    for i in range(n_layers - 2, 0, -1):\n",
        "        delta = np.dot(deltas[0], weights[i].T) * sigmoid_der(layers[i])\n",
        "        deltas.insert(0, delta)\n",
        "\n",
        "    for i in range(len(weights)):\n",
        "        layer = np.atleast_2d(layers[i])\n",
        "        delta = np.atleast_2d(deltas[i])\n",
        "        weights_delta_temp = np.dot(layer.T, delta)\n",
        "        weights[i] += learning_rate * weights_delta_temp + momentum * weights_delta[i]\n",
        "        weights_delta[i] = weights_delta_temp\n",
        "\n",
        "    return (error ** 2).sum()\n",
        "\n",
        "n_epochs = 1000\n",
        "\n",
        "for epoch in range(n_epochs):\n",
        "    loss = 0\n",
        "    for j in range(len(x)):\n",
        "        forward(x[j])\n",
        "        loss += backwards(y[j])\n",
        "\n",
        "    if epoch % 100 == 0:\n",
        "        print('epoch {} - loss: {:04.4f}'.format(epoch, loss))\n"
      ],
      "metadata": {
        "colab": {
          "base_uri": "https://localhost:8080/"
        },
        "id": "ksbHLxYbtJJe",
        "outputId": "7e4bb844-b521-4bda-b1ee-b672273654a0"
      },
      "execution_count": null,
      "outputs": [
        {
          "output_type": "stream",
          "name": "stdout",
          "text": [
            "epoch 0 - loss: 4.3115\n",
            "epoch 100 - loss: 0.1351\n",
            "epoch 200 - loss: 0.1321\n",
            "epoch 300 - loss: 0.1318\n",
            "epoch 400 - loss: 0.1317\n",
            "epoch 500 - loss: 0.1317\n",
            "epoch 600 - loss: 0.1317\n",
            "epoch 700 - loss: 0.1316\n",
            "epoch 800 - loss: 0.1316\n",
            "epoch 900 - loss: 0.1316\n"
          ]
        }
      ]
    },
    {
      "cell_type": "code",
      "source": [
        "for i in range(len(x)):\n",
        "  pred = forward(x[i])\n",
        "  loss = (y[i] - pred)**2\n",
        "  print(\"x : {}; y : {:04.2f}; pred : {:04.2f}\".format(x[i], y[i], pred[0]))"
      ],
      "metadata": {
        "id": "f4oQsj4xveSF",
        "colab": {
          "base_uri": "https://localhost:8080/"
        },
        "outputId": "48614b68-1cac-4e37-a05c-ce8f24c4c677"
      },
      "execution_count": null,
      "outputs": [
        {
          "output_type": "stream",
          "name": "stdout",
          "text": [
            "x : [1, 0, 0, 0]; y : 0.20; pred : 0.15\n",
            "x : [0, 1, 0, 0]; y : 0.30; pred : 0.25\n",
            "x : [0, 0, 1, 0]; y : 0.40; pred : 0.35\n",
            "x : [0, 0, 0, 1]; y : 0.50; pred : 0.31\n",
            "x : [0, 0, 0, 1]; y : 0.05; pred : 0.31\n",
            "x : [1, 0, 0, 0]; y : 0.10; pred : 0.15\n",
            "x : [0, 1, 0, 0]; y : 0.20; pred : 0.25\n",
            "x : [0, 0, 1, 0]; y : 0.30; pred : 0.35\n",
            "x : [0, 0, 0, 1]; y : 0.40; pred : 0.31\n"
          ]
        }
      ]
    },
    {
      "cell_type": "code",
      "source": [],
      "metadata": {
        "id": "7JIuXdjXBnE7"
      },
      "execution_count": null,
      "outputs": []
    }
  ]
}